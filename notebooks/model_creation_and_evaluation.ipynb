{
 "cells": [
  {
   "cell_type": "markdown",
   "id": "a0e4dc3f",
   "metadata": {},
   "source": [
    "## Model Creation and Evaluation"
   ]
  },
  {
   "cell_type": "code",
   "execution_count": 1,
   "id": "6736f991",
   "metadata": {},
   "outputs": [],
   "source": [
    "%%capture\n",
    "#Load data_selection-engineering file\n",
    "%run data_selection-engineering.ipynb"
   ]
  },
  {
   "cell_type": "markdown",
   "id": "aae17246",
   "metadata": {},
   "source": [
    "### Train Test Split"
   ]
  },
  {
   "cell_type": "code",
   "execution_count": 2,
   "id": "b027ee5f",
   "metadata": {},
   "outputs": [],
   "source": [
    "def model_evaluation(model, features):\n",
    "    #Split the dataset into training and testing sets\n",
    "    X_train, X_test, y_train, y_test = train_test_split(features, y, test_size=0.3, random_state=42)\n",
    "    #Create the model\n",
    "    model = model\n",
    "    model.fit(X_train, y_train)\n",
    "    #Make prediction\n",
    "    y_pred = model.predict(X_test)\n",
    "\n",
    "    #Model evaluation\n",
    "    #Calculate accuracy\n",
    "    accuracy = accuracy_score(y_test, y_pred)\n",
    "    print(\"Accuracy:\", accuracy)\n",
    "    print(\"#####################################################\")\n",
    "    #Generate a classification report\n",
    "    print(\"Classification Report\")\n",
    "    report  = classification_report(y_test, y_pred, target_names=[\"Class 0\", \"Class 1\"], output_dict=True)\n",
    "    df = pd.DataFrame(report).T\n",
    "    print(df)\n",
    "    print(\"#####################################################\")\n",
    "    #Create a confusion matrix\n",
    "    confusion = confusion_matrix(y_test, y_pred)\n",
    "    print(\"Confusion Matrix:\")\n",
    "    print(confusion)"
   ]
  },
  {
   "cell_type": "markdown",
   "id": "5ad147d9",
   "metadata": {},
   "source": [
    "#### Logistic Regression Model "
   ]
  },
  {
   "cell_type": "markdown",
   "id": "66e9f75f",
   "metadata": {},
   "source": [
    "##### Using all Independent Variables"
   ]
  },
  {
   "cell_type": "code",
   "execution_count": 3,
   "id": "bdd0619c",
   "metadata": {},
   "outputs": [
    {
     "name": "stdout",
     "output_type": "stream",
     "text": [
      "Accuracy: 0.7990521327014218\n",
      "#####################################################\n",
      "Classification Report\n",
      "              precision    recall  f1-score      support\n",
      "Class 0        0.839879  0.897353  0.867665  1549.000000\n",
      "Class 1        0.650549  0.527629  0.582677   561.000000\n",
      "accuracy       0.799052  0.799052  0.799052     0.799052\n",
      "macro avg      0.745214  0.712491  0.725171  2110.000000\n",
      "weighted avg   0.789541  0.799052  0.791894  2110.000000\n",
      "#####################################################\n",
      "Confusion Matrix:\n",
      "[[1390  159]\n",
      " [ 265  296]]\n"
     ]
    }
   ],
   "source": [
    "model_evaluation(LogisticRegression(), X)"
   ]
  },
  {
   "cell_type": "markdown",
   "id": "750159af",
   "metadata": {},
   "source": [
    "##### Using Selected Variables with Stepwise selection"
   ]
  },
  {
   "cell_type": "code",
   "execution_count": 4,
   "id": "d2b1bd31",
   "metadata": {},
   "outputs": [
    {
     "name": "stdout",
     "output_type": "stream",
     "text": [
      "Accuracy: 0.7981042654028436\n",
      "#####################################################\n",
      "Classification Report\n",
      "              precision    recall  f1-score      support\n",
      "Class 0        0.843005  0.890897  0.866290  1549.000000\n",
      "Class 1        0.642706  0.541889  0.588008   561.000000\n",
      "accuracy       0.798104  0.798104  0.798104     0.798104\n",
      "macro avg      0.742856  0.716393  0.727149  2110.000000\n",
      "weighted avg   0.789751  0.798104  0.792301  2110.000000\n",
      "#####################################################\n",
      "Confusion Matrix:\n",
      "[[1380  169]\n",
      " [ 257  304]]\n"
     ]
    }
   ],
   "source": [
    "model_evaluation(LogisticRegression(), dataset[selected])"
   ]
  },
  {
   "cell_type": "markdown",
   "id": "7330c16a",
   "metadata": {},
   "source": [
    "##### Using PCA Components (2)"
   ]
  },
  {
   "cell_type": "code",
   "execution_count": 5,
   "id": "d69c82da",
   "metadata": {},
   "outputs": [
    {
     "name": "stdout",
     "output_type": "stream",
     "text": [
      "Accuracy: 0.7753554502369668\n",
      "#####################################################\n",
      "Classification Report\n",
      "              precision    recall  f1-score      support\n",
      "Class 0        0.814880  0.897999  0.854423  1549.000000\n",
      "Class 1        0.607940  0.436720  0.508299   561.000000\n",
      "accuracy       0.775355  0.775355  0.775355     0.775355\n",
      "macro avg      0.711410  0.667359  0.681361  2110.000000\n",
      "weighted avg   0.759860  0.775355  0.762396  2110.000000\n",
      "#####################################################\n",
      "Confusion Matrix:\n",
      "[[1391  158]\n",
      " [ 316  245]]\n"
     ]
    }
   ],
   "source": [
    "model_evaluation(LogisticRegression(), X_pca)"
   ]
  },
  {
   "cell_type": "markdown",
   "id": "2867f72f",
   "metadata": {},
   "source": [
    "#### SVM Model"
   ]
  },
  {
   "cell_type": "markdown",
   "id": "b8d3162a",
   "metadata": {},
   "source": [
    "##### Using all Independent Variables"
   ]
  },
  {
   "cell_type": "code",
   "execution_count": 6,
   "id": "9e5d3e26",
   "metadata": {},
   "outputs": [
    {
     "name": "stdout",
     "output_type": "stream",
     "text": [
      "Accuracy: 0.7341232227488151\n",
      "#####################################################\n",
      "Classification Report\n",
      "              precision    recall  f1-score      support\n",
      "Class 0        0.734123  1.000000  0.846679  1549.000000\n",
      "Class 1        0.000000  0.000000  0.000000   561.000000\n",
      "accuracy       0.734123  0.734123  0.734123     0.734123\n",
      "macro avg      0.367062  0.500000  0.423340  2110.000000\n",
      "weighted avg   0.538937  0.734123  0.621567  2110.000000\n",
      "#####################################################\n",
      "Confusion Matrix:\n",
      "[[1549    0]\n",
      " [ 561    0]]\n"
     ]
    }
   ],
   "source": [
    "model_evaluation(SVC(), X)"
   ]
  },
  {
   "cell_type": "markdown",
   "id": "167f3683",
   "metadata": {},
   "source": [
    "##### Using Selected Variables with Stepwise selection"
   ]
  },
  {
   "cell_type": "code",
   "execution_count": 7,
   "id": "44c19500",
   "metadata": {},
   "outputs": [
    {
     "name": "stdout",
     "output_type": "stream",
     "text": [
      "Accuracy: 0.7341232227488151\n",
      "#####################################################\n",
      "Classification Report\n",
      "              precision    recall  f1-score      support\n",
      "Class 0        0.734123  1.000000  0.846679  1549.000000\n",
      "Class 1        0.000000  0.000000  0.000000   561.000000\n",
      "accuracy       0.734123  0.734123  0.734123     0.734123\n",
      "macro avg      0.367062  0.500000  0.423340  2110.000000\n",
      "weighted avg   0.538937  0.734123  0.621567  2110.000000\n",
      "#####################################################\n",
      "Confusion Matrix:\n",
      "[[1549    0]\n",
      " [ 561    0]]\n"
     ]
    }
   ],
   "source": [
    "model_evaluation(SVC(), dataset[selected])"
   ]
  },
  {
   "cell_type": "markdown",
   "id": "a7e13f64",
   "metadata": {},
   "source": [
    "##### Using PCA Components (2)"
   ]
  },
  {
   "cell_type": "code",
   "execution_count": 8,
   "id": "5ea8b210",
   "metadata": {},
   "outputs": [
    {
     "name": "stdout",
     "output_type": "stream",
     "text": [
      "Accuracy: 0.7341232227488151\n",
      "#####################################################\n",
      "Classification Report\n",
      "              precision    recall  f1-score      support\n",
      "Class 0        0.734123  1.000000  0.846679  1549.000000\n",
      "Class 1        0.000000  0.000000  0.000000   561.000000\n",
      "accuracy       0.734123  0.734123  0.734123     0.734123\n",
      "macro avg      0.367062  0.500000  0.423340  2110.000000\n",
      "weighted avg   0.538937  0.734123  0.621567  2110.000000\n",
      "#####################################################\n",
      "Confusion Matrix:\n",
      "[[1549    0]\n",
      " [ 561    0]]\n"
     ]
    }
   ],
   "source": [
    "model_evaluation(SVC(), X_pca)"
   ]
  },
  {
   "cell_type": "markdown",
   "id": "af0ebb99",
   "metadata": {},
   "source": [
    "### Using Hyperparameter tuning on Logistic Regression Model"
   ]
  },
  {
   "cell_type": "code",
   "execution_count": 9,
   "id": "b488c5a5",
   "metadata": {},
   "outputs": [],
   "source": [
    "X_train, X_test, y_train, y_test = train_test_split(X, y, test_size=0.3, random_state=42)"
   ]
  },
  {
   "cell_type": "code",
   "execution_count": 10,
   "id": "34f691ee",
   "metadata": {},
   "outputs": [],
   "source": [
    "#Standardize features\n",
    "scaler = StandardScaler()\n",
    "X_train = scaler.fit_transform(X_train)\n",
    "X_test = scaler.transform(X_test)"
   ]
  },
  {
   "cell_type": "code",
   "execution_count": 11,
   "id": "a8986adf",
   "metadata": {},
   "outputs": [
    {
     "name": "stdout",
     "output_type": "stream",
     "text": [
      "Best Hyperparameters: {'C': 0.1, 'penalty': 'l1', 'solver': 'saga'}\n"
     ]
    }
   ],
   "source": [
    "#Create a logistic regression model\n",
    "model = LogisticRegression()\n",
    "\n",
    "#Define hyperparameters\n",
    "param_grid = {\n",
    "    \"C\": [0.001, 0.01, 0.1, 1, 10],\n",
    "    \"penalty\": [\"l1\", \"l2\"],\n",
    "    \"solver\": [\"liblinear\", \"saga\", \"lbfgs\"]\n",
    "}\n",
    "\n",
    "#Create a grid search\n",
    "grid_search = GridSearchCV(estimator=model, param_grid=param_grid, cv=10, scoring=\"accuracy\")\n",
    "\n",
    "# Fit the grid search\n",
    "grid_search.fit(X_train, y_train)\n",
    "\n",
    "#Get the best hyperparameters\n",
    "best_params = grid_search.best_params_\n",
    "print(\"Best Hyperparameters:\", best_params)"
   ]
  },
  {
   "cell_type": "code",
   "execution_count": 12,
   "id": "a49e7111",
   "metadata": {},
   "outputs": [
    {
     "name": "stdout",
     "output_type": "stream",
     "text": [
      "Accuracy: 0.795734597156398\n",
      "#####################################################\n",
      "Classification Report:\n",
      "              precision    recall  f1-score   support\n",
      "\n",
      "           0       0.84      0.90      0.87      1549\n",
      "           1       0.65      0.51      0.57       561\n",
      "\n",
      "    accuracy                           0.80      2110\n",
      "   macro avg       0.74      0.71      0.72      2110\n",
      "weighted avg       0.79      0.80      0.79      2110\n",
      "\n"
     ]
    }
   ],
   "source": [
    "#Create a logistic regression model with the best hyperparameters\n",
    "best_model = LogisticRegression(**best_params)\n",
    "\n",
    "#Fit the model\n",
    "best_model.fit(X_train, y_train)\n",
    "\n",
    "#Prediction\n",
    "y_pred = best_model.predict(X_test)\n",
    "\n",
    "#Calculate accuracy\n",
    "accuracy = accuracy_score(y_test, y_pred)\n",
    "print(\"Accuracy:\", accuracy)\n",
    "print(\"#####################################################\")\n",
    "#Evaluate the model\n",
    "print(\"Classification Report:\")\n",
    "print(classification_report(y_test, y_pred))"
   ]
  },
  {
   "cell_type": "markdown",
   "id": "baaf0afc",
   "metadata": {},
   "source": [
    "### Evaluating the model performance using ROC curve"
   ]
  },
  {
   "cell_type": "code",
   "execution_count": 13,
   "id": "ade8e1ec",
   "metadata": {},
   "outputs": [],
   "source": [
    "#Compute the predicted probabilities\n",
    "y_prob = best_model.predict_proba(X_test)[:, 1]\n",
    "#Calculate ROC Curve\n",
    "fpr, tpr, thresholds = roc_curve(y_test, y_prob)\n",
    "#Compute the AUC (Area Under the ROC Curve) \n",
    "roc_auc = auc(fpr, tpr)"
   ]
  },
  {
   "cell_type": "code",
   "execution_count": 14,
   "id": "8a6e8a10",
   "metadata": {},
   "outputs": [],
   "source": [
    "#SVC model\n",
    "svc_model = SVC(probability=True)  # Setting probability=True is important for ROC curve\n",
    "svc_model.fit(X_train, y_train)\n",
    "#Compute the predicted probabilities\n",
    "svc_prob = svc_model.predict_proba(X_test)[:, 1]\n",
    "#Calculate ROC curve\n",
    "fpr_svc, tpr_svc, thresholds_svc = roc_curve(y_test, svc_prob)\n",
    "#Compute the AUC (Area Under the ROC Curve) \n",
    "roc_auc_svc = auc(fpr_svc, tpr_svc)"
   ]
  },
  {
   "cell_type": "code",
   "execution_count": 15,
   "id": "5698626f",
   "metadata": {},
   "outputs": [
    {
     "data": {
      "image/png": "[encoded data removed]",
      "text/plain": [
       "<Figure size 800x400 with 1 Axes>"
      ]
     },
     "metadata": {},
     "output_type": "display_data"
    }
   ],
   "source": [
    "#Plot the ROC curves\n",
    "plt.figure(figsize=(8, 4))\n",
    "plt.plot(fpr, tpr, color=\"b\", lw=2, label=\"Logistic Regression (AUC = {:.2f})\".format(roc_auc))\n",
    "plt.plot(fpr_svc, tpr_svc, color=\"g\", lw=2, label=\"SVC (AUC = {:.2f})\".format(roc_auc_svc))\n",
    "\n",
    "plt.plot([0, 1], [0, 1], color=\"r\", lw=2, linestyle=\"--\")\n",
    "plt.xlim([0.0, 1.0])\n",
    "plt.ylim([0.0, 1.05])\n",
    "plt.xlabel(\"False Positive Rate\")\n",
    "plt.ylabel(\"True Positive Rate\")\n",
    "plt.title(\"Receiver Operating Characteristic (ROC) Curves\")\n",
    "plt.legend()\n",
    "plt.show()"
   ]
  },
  {
   "cell_type": "code",
   "execution_count": null,
   "id": "3f305c4a",
   "metadata": {},
   "outputs": [],
   "source": []
  }
 ],
 "metadata": {
  "kernelspec": {
   "display_name": "Python 3 (ipykernel)",
   "language": "python",
   "name": "python3"
  },
  "language_info": {
   "codemirror_mode": {
    "name": "ipython",
    "version": 3
   },
   "file_extension": ".py",
   "mimetype": "text/x-python",
   "name": "python",
   "nbconvert_exporter": "python",
   "pygments_lexer": "ipython3",
   "version": "3.11.4"
  }
 },
 "nbformat": 4,
 "nbformat_minor": 5
}
